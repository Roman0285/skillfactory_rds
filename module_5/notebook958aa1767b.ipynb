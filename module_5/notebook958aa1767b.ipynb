{
 "cells": [
  {
   "cell_type": "code",
   "execution_count": 1,
   "metadata": {
    "_cell_guid": "b1076dfc-b9ad-4769-8c92-a6c4dae69d19",
    "_uuid": "8f2839f25d086af736a60e9eeb907d3b93b6e0e5",
    "execution": {
     "iopub.execute_input": "2020-10-24T15:49:08.297527Z",
     "iopub.status.busy": "2020-10-24T15:49:08.296687Z",
     "iopub.status.idle": "2020-10-24T15:49:09.609012Z",
     "shell.execute_reply": "2020-10-24T15:49:09.609773Z"
    },
    "papermill": {
     "duration": 1.370408,
     "end_time": "2020-10-24T15:49:09.610037",
     "exception": false,
     "start_time": "2020-10-24T15:49:08.239629",
     "status": "completed"
    },
    "tags": []
   },
   "outputs": [
    {
     "name": "stdout",
     "output_type": "stream",
     "text": [
      "/kaggle/input/sf-dst-scoring/train.csv\n",
      "/kaggle/input/sf-dst-scoring/test.csv\n",
      "/kaggle/input/sf-dst-scoring/sample_submission.csv\n"
     ]
    }
   ],
   "source": [
    "#Импорт библиотек\n",
    "\n",
    "from pandas import Series\n",
    "import pandas as pd\n",
    "import numpy as np\n",
    "\n",
    "\n",
    "import matplotlib.pyplot as plt\n",
    "import seaborn as sns\n",
    "\n",
    "from sklearn.feature_selection import f_classif, mutual_info_classif\n",
    "from sklearn.preprocessing import LabelEncoder, OneHotEncoder, StandardScaler, RobustScaler\n",
    "\n",
    "from sklearn.model_selection import train_test_split, GridSearchCV\n",
    "from sklearn.linear_model import LogisticRegression\n",
    "\n",
    "\n",
    "from sklearn.metrics import accuracy_score, precision_score, recall_score, f1_score, confusion_matrix\n",
    "from sklearn.metrics import auc, roc_auc_score, roc_curve, precision_recall_curve, average_precision_score\n",
    "\n",
    "import warnings\n",
    "warnings.filterwarnings('ignore')\n",
    "\n",
    "import os\n",
    "for dirname, _, filenames in os.walk('/kaggle/input'):\n",
    "    for filename in filenames:\n",
    "        print(os.path.join(dirname, filename))"
   ]
  },
  {
   "cell_type": "code",
   "execution_count": 2,
   "metadata": {
    "_cell_guid": "79c7e3d0-c299-4dcb-8224-4455121ee9b0",
    "_uuid": "d629ff2d2480ee46fbb7e2d37f6b5fab8052498a",
    "execution": {
     "iopub.execute_input": "2020-10-24T15:49:09.709402Z",
     "iopub.status.busy": "2020-10-24T15:49:09.708416Z",
     "iopub.status.idle": "2020-10-24T15:49:12.993588Z",
     "shell.execute_reply": "2020-10-24T15:49:12.992896Z"
    },
    "papermill": {
     "duration": 3.338603,
     "end_time": "2020-10-24T15:49:12.993731",
     "exception": false,
     "start_time": "2020-10-24T15:49:09.655128",
     "status": "completed"
    },
    "tags": []
   },
   "outputs": [
    {
     "name": "stdout",
     "output_type": "stream",
     "text": [
      "df_train:  (73799, 19)\n",
      "df_test:  (36349, 18)\n"
     ]
    }
   ],
   "source": [
    "RANDOM_SEED = 42\n",
    "!pip freeze > requirements.txt\n",
    "\n",
    "path_to_data = '/kaggle/input/sf-dst-scoring/'\n",
    "\n",
    "# Импорт данных\n",
    "df_train = pd.read_csv(path_to_data+'train.csv')\n",
    "df_test = pd.read_csv(path_to_data+'test.csv')\n",
    "\n",
    "print('df_train: ', df_train.shape)\n",
    "print('df_test: ', df_test.shape)"
   ]
  },
  {
   "cell_type": "code",
   "execution_count": 3,
   "metadata": {
    "execution": {
     "iopub.execute_input": "2020-10-24T15:49:13.093477Z",
     "iopub.status.busy": "2020-10-24T15:49:13.092709Z",
     "iopub.status.idle": "2020-10-24T15:49:13.165437Z",
     "shell.execute_reply": "2020-10-24T15:49:13.164697Z"
    },
    "papermill": {
     "duration": 0.127022,
     "end_time": "2020-10-24T15:49:13.165597",
     "exception": false,
     "start_time": "2020-10-24T15:49:13.038575",
     "status": "completed"
    },
    "tags": []
   },
   "outputs": [
    {
     "name": "stdout",
     "output_type": "stream",
     "text": [
      "<class 'pandas.core.frame.DataFrame'>\n",
      "RangeIndex: 73799 entries, 0 to 73798\n",
      "Data columns (total 19 columns):\n",
      " #   Column            Non-Null Count  Dtype  \n",
      "---  ------            --------------  -----  \n",
      " 0   client_id         73799 non-null  int64  \n",
      " 1   app_date          73799 non-null  object \n",
      " 2   education         73492 non-null  object \n",
      " 3   sex               73799 non-null  object \n",
      " 4   age               73799 non-null  int64  \n",
      " 5   car               73799 non-null  object \n",
      " 6   car_type          73799 non-null  object \n",
      " 7   decline_app_cnt   73799 non-null  int64  \n",
      " 8   good_work         73799 non-null  int64  \n",
      " 9   score_bki         73799 non-null  float64\n",
      " 10  bki_request_cnt   73799 non-null  int64  \n",
      " 11  region_rating     73799 non-null  int64  \n",
      " 12  home_address      73799 non-null  int64  \n",
      " 13  work_address      73799 non-null  int64  \n",
      " 14  income            73799 non-null  int64  \n",
      " 15  sna               73799 non-null  int64  \n",
      " 16  first_time        73799 non-null  int64  \n",
      " 17  foreign_passport  73799 non-null  object \n",
      " 18  default           73799 non-null  int64  \n",
      "dtypes: float64(1), int64(12), object(6)\n",
      "memory usage: 10.7+ MB\n"
     ]
    }
   ],
   "source": [
    "#Посмотрим на тренеировочные данные\n",
    "df_train.info()"
   ]
  },
  {
   "cell_type": "code",
   "execution_count": 4,
   "metadata": {
    "execution": {
     "iopub.execute_input": "2020-10-24T15:49:13.261316Z",
     "iopub.status.busy": "2020-10-24T15:49:13.260382Z",
     "iopub.status.idle": "2020-10-24T15:49:13.320330Z",
     "shell.execute_reply": "2020-10-24T15:49:13.319576Z"
    },
    "papermill": {
     "duration": 0.110192,
     "end_time": "2020-10-24T15:49:13.320499",
     "exception": false,
     "start_time": "2020-10-24T15:49:13.210307",
     "status": "completed"
    },
    "tags": []
   },
   "outputs": [
    {
     "data": {
      "text/plain": [
       "client_id             0\n",
       "app_date              0\n",
       "education           307\n",
       "sex                   0\n",
       "age                   0\n",
       "car                   0\n",
       "car_type              0\n",
       "decline_app_cnt       0\n",
       "good_work             0\n",
       "score_bki             0\n",
       "bki_request_cnt       0\n",
       "region_rating         0\n",
       "home_address          0\n",
       "work_address          0\n",
       "income                0\n",
       "sna                   0\n",
       "first_time            0\n",
       "foreign_passport      0\n",
       "default               0\n",
       "dtype: int64"
      ]
     },
     "execution_count": 4,
     "metadata": {},
     "output_type": "execute_result"
    }
   ],
   "source": [
    "#Посмотрим сколько нулевых значений\n",
    "df_train.isnull().sum()"
   ]
  },
  {
   "cell_type": "code",
   "execution_count": 5,
   "metadata": {
    "execution": {
     "iopub.execute_input": "2020-10-24T15:49:13.442501Z",
     "iopub.status.busy": "2020-10-24T15:49:13.418418Z",
     "iopub.status.idle": "2020-10-24T15:49:13.456292Z",
     "shell.execute_reply": "2020-10-24T15:49:13.457183Z"
    },
    "papermill": {
     "duration": 0.091302,
     "end_time": "2020-10-24T15:49:13.457419",
     "exception": false,
     "start_time": "2020-10-24T15:49:13.366117",
     "status": "completed"
    },
    "tags": []
   },
   "outputs": [
    {
     "name": "stdout",
     "output_type": "stream",
     "text": [
      "<class 'pandas.core.frame.DataFrame'>\n",
      "RangeIndex: 36349 entries, 0 to 36348\n",
      "Data columns (total 18 columns):\n",
      " #   Column            Non-Null Count  Dtype  \n",
      "---  ------            --------------  -----  \n",
      " 0   client_id         36349 non-null  int64  \n",
      " 1   app_date          36349 non-null  object \n",
      " 2   education         36178 non-null  object \n",
      " 3   sex               36349 non-null  object \n",
      " 4   age               36349 non-null  int64  \n",
      " 5   car               36349 non-null  object \n",
      " 6   car_type          36349 non-null  object \n",
      " 7   decline_app_cnt   36349 non-null  int64  \n",
      " 8   good_work         36349 non-null  int64  \n",
      " 9   score_bki         36349 non-null  float64\n",
      " 10  bki_request_cnt   36349 non-null  int64  \n",
      " 11  region_rating     36349 non-null  int64  \n",
      " 12  home_address      36349 non-null  int64  \n",
      " 13  work_address      36349 non-null  int64  \n",
      " 14  income            36349 non-null  int64  \n",
      " 15  sna               36349 non-null  int64  \n",
      " 16  first_time        36349 non-null  int64  \n",
      " 17  foreign_passport  36349 non-null  object \n",
      "dtypes: float64(1), int64(11), object(6)\n",
      "memory usage: 5.0+ MB\n"
     ]
    }
   ],
   "source": [
    "#Посмотрим на тестовые данные\n",
    "df_test.info()"
   ]
  },
  {
   "cell_type": "code",
   "execution_count": 6,
   "metadata": {
    "execution": {
     "iopub.execute_input": "2020-10-24T15:49:13.555047Z",
     "iopub.status.busy": "2020-10-24T15:49:13.554223Z",
     "iopub.status.idle": "2020-10-24T15:49:13.586840Z",
     "shell.execute_reply": "2020-10-24T15:49:13.586062Z"
    },
    "papermill": {
     "duration": 0.082999,
     "end_time": "2020-10-24T15:49:13.586979",
     "exception": false,
     "start_time": "2020-10-24T15:49:13.503980",
     "status": "completed"
    },
    "tags": []
   },
   "outputs": [
    {
     "data": {
      "text/plain": [
       "client_id             0\n",
       "app_date              0\n",
       "education           171\n",
       "sex                   0\n",
       "age                   0\n",
       "car                   0\n",
       "car_type              0\n",
       "decline_app_cnt       0\n",
       "good_work             0\n",
       "score_bki             0\n",
       "bki_request_cnt       0\n",
       "region_rating         0\n",
       "home_address          0\n",
       "work_address          0\n",
       "income                0\n",
       "sna                   0\n",
       "first_time            0\n",
       "foreign_passport      0\n",
       "dtype: int64"
      ]
     },
     "execution_count": 6,
     "metadata": {},
     "output_type": "execute_result"
    }
   ],
   "source": [
    "#Посмотрим сколько нулевых значений\n",
    "df_test.isnull().sum()"
   ]
  },
  {
   "cell_type": "code",
   "execution_count": 7,
   "metadata": {
    "execution": {
     "iopub.execute_input": "2020-10-24T15:49:13.687816Z",
     "iopub.status.busy": "2020-10-24T15:49:13.686873Z",
     "iopub.status.idle": "2020-10-24T15:49:13.758613Z",
     "shell.execute_reply": "2020-10-24T15:49:13.759186Z"
    },
    "papermill": {
     "duration": 0.125803,
     "end_time": "2020-10-24T15:49:13.759355",
     "exception": false,
     "start_time": "2020-10-24T15:49:13.633552",
     "status": "completed"
    },
    "tags": []
   },
   "outputs": [],
   "source": [
    "# Объединяем данные\n",
    "\n",
    "df_train['Train'] = 1 # помечаем трейн\n",
    "df_test['Train'] = 0 # помечаем тест\n",
    "\n",
    "df = df_train.append(df_test, sort=False).reset_index(drop=True)"
   ]
  },
  {
   "cell_type": "code",
   "execution_count": 8,
   "metadata": {
    "execution": {
     "iopub.execute_input": "2020-10-24T15:49:13.858924Z",
     "iopub.status.busy": "2020-10-24T15:49:13.858128Z",
     "iopub.status.idle": "2020-10-24T15:49:13.972892Z",
     "shell.execute_reply": "2020-10-24T15:49:13.971256Z"
    },
    "papermill": {
     "duration": 0.166835,
     "end_time": "2020-10-24T15:49:13.973075",
     "exception": false,
     "start_time": "2020-10-24T15:49:13.806240",
     "status": "completed"
    },
    "tags": []
   },
   "outputs": [
    {
     "name": "stdout",
     "output_type": "stream",
     "text": [
      "<class 'pandas.core.frame.DataFrame'>\n",
      "RangeIndex: 110148 entries, 0 to 110147\n",
      "Data columns (total 20 columns):\n",
      " #   Column            Non-Null Count   Dtype  \n",
      "---  ------            --------------   -----  \n",
      " 0   client_id         110148 non-null  int64  \n",
      " 1   app_date          110148 non-null  object \n",
      " 2   education         109670 non-null  object \n",
      " 3   sex               110148 non-null  object \n",
      " 4   age               110148 non-null  int64  \n",
      " 5   car               110148 non-null  object \n",
      " 6   car_type          110148 non-null  object \n",
      " 7   decline_app_cnt   110148 non-null  int64  \n",
      " 8   good_work         110148 non-null  int64  \n",
      " 9   score_bki         110148 non-null  float64\n",
      " 10  bki_request_cnt   110148 non-null  int64  \n",
      " 11  region_rating     110148 non-null  int64  \n",
      " 12  home_address      110148 non-null  int64  \n",
      " 13  work_address      110148 non-null  int64  \n",
      " 14  income            110148 non-null  int64  \n",
      " 15  sna               110148 non-null  int64  \n",
      " 16  first_time        110148 non-null  int64  \n",
      " 17  foreign_passport  110148 non-null  object \n",
      " 18  default           73799 non-null   float64\n",
      " 19  Train             110148 non-null  int64  \n",
      "dtypes: float64(2), int64(12), object(6)\n",
      "memory usage: 16.8+ MB\n"
     ]
    }
   ],
   "source": [
    "df.info()"
   ]
  },
  {
   "cell_type": "markdown",
   "metadata": {
    "papermill": {
     "duration": 0.049489,
     "end_time": "2020-10-24T15:49:14.070617",
     "exception": false,
     "start_time": "2020-10-24T15:49:14.021128",
     "status": "completed"
    },
    "tags": []
   },
   "source": [
    "В train выборке 73799 клиентов\n",
    "В test выборке - 36349 клиентов\n",
    "Всего 110148 клиентов\n",
    "\n",
    "Всего 19 признаков:\n",
    "1. client_id - id клиента\n",
    "2. app_date - дата подачи заявки\n",
    "3. education - уровень образования\n",
    "4. sex - пол заемщика\n",
    "5. age - возраст заемщика\n",
    "6. car - флаг наличия автомобиля\n",
    "7. car_type - флаг автомобиля иномарки\n",
    "8. decline_app_cnt - количество отказанных прошлых заявок\n",
    "9. good_work - флаг наличия “хорошей” работы\n",
    "10. score_bki - скоринговый балл по данным из БКИ\n",
    "11. bki_request_cnt - количество запросов в БКИ\n",
    "12. region_rating - рейтинг региона\n",
    "13. home_address - категоризатор домашнего адреса\n",
    "14. work_address - категоризатор рабочего адреса\n",
    "15. income - доход заемщика\n",
    "16. sna - связь заемщика с клиентами банка\n",
    "17. first_time - давность наличия информации о заемщике\n",
    "18. foreign_passport - наличие загранпаспорта\n",
    "19. default - флаг дефолта по кредиту\n",
    "\n",
    "Признаки деляться на:\n",
    "1 временной ('app_date'),\n",
    "6 бинарных ('sex', 'car', 'car_type', 'good_work', 'foreign_passport', 'default'),\n",
    "6 категориальных ('education', 'region_rating', 'home_address', 'work_address', 'sna', 'first_time')\n",
    "6 числовых ('client_id', 'age', 'decline_app_cnt', 'score_bki', 'bki_request_cnt', 'income')\n",
    "\n",
    "Пропуски есть только в признаке 'education' - 478 (в train - 307, в test - 171)"
   ]
  },
  {
   "cell_type": "markdown",
   "metadata": {
    "papermill": {
     "duration": 0.047553,
     "end_time": "2020-10-24T15:49:14.167192",
     "exception": false,
     "start_time": "2020-10-24T15:49:14.119639",
     "status": "completed"
    },
    "tags": []
   },
   "source": [
    "# Проведем анализ признаков"
   ]
  },
  {
   "cell_type": "markdown",
   "metadata": {
    "papermill": {
     "duration": 0.046667,
     "end_time": "2020-10-24T15:49:14.260963",
     "exception": false,
     "start_time": "2020-10-24T15:49:14.214296",
     "status": "completed"
    },
    "tags": []
   },
   "source": [
    "client_id. числовой идентификационный признак. Его потом можно удалить"
   ]
  },
  {
   "cell_type": "markdown",
   "metadata": {
    "papermill": {
     "duration": 0.047026,
     "end_time": "2020-10-24T15:49:14.355772",
     "exception": false,
     "start_time": "2020-10-24T15:49:14.308746",
     "status": "completed"
    },
    "tags": []
   },
   "source": [
    "Временной признак app_date"
   ]
  },
  {
   "cell_type": "code",
   "execution_count": 9,
   "metadata": {
    "execution": {
     "iopub.execute_input": "2020-10-24T15:49:14.466368Z",
     "iopub.status.busy": "2020-10-24T15:49:14.465283Z",
     "iopub.status.idle": "2020-10-24T15:49:14.498309Z",
     "shell.execute_reply": "2020-10-24T15:49:14.497499Z"
    },
    "papermill": {
     "duration": 0.095695,
     "end_time": "2020-10-24T15:49:14.498447",
     "exception": false,
     "start_time": "2020-10-24T15:49:14.402752",
     "status": "completed"
    },
    "tags": []
   },
   "outputs": [],
   "source": [
    "#приведем к формату datetime\n",
    "from datetime import datetime\n",
    "df.app_date = pd.to_datetime(df.app_date, format='%d%b%Y')"
   ]
  },
  {
   "cell_type": "code",
   "execution_count": 10,
   "metadata": {
    "execution": {
     "iopub.execute_input": "2020-10-24T15:49:14.603097Z",
     "iopub.status.busy": "2020-10-24T15:49:14.602269Z",
     "iopub.status.idle": "2020-10-24T15:49:14.612723Z",
     "shell.execute_reply": "2020-10-24T15:49:14.611950Z"
    },
    "papermill": {
     "duration": 0.065966,
     "end_time": "2020-10-24T15:49:14.612851",
     "exception": false,
     "start_time": "2020-10-24T15:49:14.546885",
     "status": "completed"
    },
    "tags": []
   },
   "outputs": [],
   "source": [
    "#Введем новый признак, нумерация дней от минимальной даты\n",
    "df['days'] = (df.app_date - df.app_date.min()).dt.days.astype('int')"
   ]
  },
  {
   "cell_type": "code",
   "execution_count": 11,
   "metadata": {
    "execution": {
     "iopub.execute_input": "2020-10-24T15:49:14.716223Z",
     "iopub.status.busy": "2020-10-24T15:49:14.715089Z",
     "iopub.status.idle": "2020-10-24T15:49:15.214383Z",
     "shell.execute_reply": "2020-10-24T15:49:15.213759Z"
    },
    "papermill": {
     "duration": 0.553977,
     "end_time": "2020-10-24T15:49:15.214535",
     "exception": false,
     "start_time": "2020-10-24T15:49:14.660558",
     "status": "completed"
    },
    "tags": []
   },
   "outputs": [
    {
     "data": {
      "text/plain": [
       "<matplotlib.axes._subplots.AxesSubplot at 0x7f26a695d210>"
      ]
     },
     "execution_count": 11,
     "metadata": {},
     "output_type": "execute_result"
    },
    {
     "data": {
      "image/png": "[encoded data removed]",
      "text/plain": [
       "<Figure size 432x288 with 1 Axes>"
      ]
     },
     "metadata": {
      "needs_background": "light"
     },
     "output_type": "display_data"
    }
   ],
   "source": [
    "sns.scatterplot(x='client_id',y='days',data=df)"
   ]
  },
  {
   "cell_type": "markdown",
   "metadata": {
    "papermill": {
     "duration": 0.04876,
     "end_time": "2020-10-24T15:49:15.312408",
     "exception": false,
     "start_time": "2020-10-24T15:49:15.263648",
     "status": "completed"
    },
    "tags": []
   },
   "source": [
    "Из графика можно сделать вывод, что в банке ведется нумерация клиентов зависящая от дня обращения в банк"
   ]
  },
  {
   "cell_type": "code",
   "execution_count": 12,
   "metadata": {
    "execution": {
     "iopub.execute_input": "2020-10-24T15:49:15.417162Z",
     "iopub.status.busy": "2020-10-24T15:49:15.416369Z",
     "iopub.status.idle": "2020-10-24T15:49:15.435970Z",
     "shell.execute_reply": "2020-10-24T15:49:15.435109Z"
    },
    "papermill": {
     "duration": 0.074373,
     "end_time": "2020-10-24T15:49:15.436123",
     "exception": false,
     "start_time": "2020-10-24T15:49:15.361750",
     "status": "completed"
    },
    "tags": []
   },
   "outputs": [],
   "source": [
    "# Введем новый признак, месяц подачи заявки\n",
    "\n",
    "df['app_date_month'] = df.app_date.dt.month"
   ]
  },
  {
   "cell_type": "code",
   "execution_count": 13,
   "metadata": {
    "execution": {
     "iopub.execute_input": "2020-10-24T15:49:15.549284Z",
     "iopub.status.busy": "2020-10-24T15:49:15.544281Z",
     "iopub.status.idle": "2020-10-24T15:49:16.380871Z",
     "shell.execute_reply": "2020-10-24T15:49:16.380227Z"
    },
    "papermill": {
     "duration": 0.89489,
     "end_time": "2020-10-24T15:49:16.381029",
     "exception": false,
     "start_time": "2020-10-24T15:49:15.486139",
     "status": "completed"
    },
    "tags": []
   },
   "outputs": [
    {
     "data": {
      "text/plain": [
       "<matplotlib.axes._subplots.AxesSubplot at 0x7f26a730ed50>"
      ]
     },
     "execution_count": 13,
     "metadata": {},
     "output_type": "execute_result"
    },
    {
     "data": {
      "image/png": "[encoded data removed]",
      "text/plain": [
       "<Figure size 864x288 with 1 Axes>"
      ]
     },
     "metadata": {
      "needs_background": "light"
     },
     "output_type": "display_data"
    }
   ],
   "source": [
    "plt.subplots(figsize=(12, 4))\n",
    "sns.barplot(data=df[df['Train']==1], x=df.loc[df['Train']==1,'app_date'].dt.month, y='default')"
   ]
  },
  {
   "cell_type": "markdown",
   "metadata": {
    "papermill": {
     "duration": 0.050388,
     "end_time": "2020-10-24T15:49:16.483748",
     "exception": false,
     "start_time": "2020-10-24T15:49:16.433360",
     "status": "completed"
    },
    "tags": []
   },
   "source": [
    "Можно сделать вывод, что среднее число дефолтов по тренировочному датасету отрицательно коррелирует с месяцем подачи заявки"
   ]
  },
  {
   "cell_type": "code",
   "execution_count": 14,
   "metadata": {
    "execution": {
     "iopub.execute_input": "2020-10-24T15:49:16.597731Z",
     "iopub.status.busy": "2020-10-24T15:49:16.596514Z",
     "iopub.status.idle": "2020-10-24T15:49:16.600260Z",
     "shell.execute_reply": "2020-10-24T15:49:16.600848Z"
    },
    "papermill": {
     "duration": 0.066103,
     "end_time": "2020-10-24T15:49:16.601023",
     "exception": false,
     "start_time": "2020-10-24T15:49:16.534920",
     "status": "completed"
    },
    "tags": []
   },
   "outputs": [],
   "source": [
    "# объединим все полученные признаки по категориям\n",
    "date_cols = ['app_date']\n",
    "bin_cols = ['sex', 'car', 'car_type', 'good_work', 'foreign_passport'] # default - целевая переменная\n",
    "cat_cols = ['education', 'region_rating', 'home_address', 'work_address', 'sna', 'first_time', 'app_date_month']\n",
    "num_cols = ['age','decline_app_cnt','score_bki','bki_request_cnt','income', 'days'] # client_id исключили из списка"
   ]
  },
  {
   "cell_type": "markdown",
   "metadata": {
    "papermill": {
     "duration": 0.053017,
     "end_time": "2020-10-24T15:49:16.706340",
     "exception": false,
     "start_time": "2020-10-24T15:49:16.653323",
     "status": "completed"
    },
    "tags": []
   },
   "source": [
    "# Рассмотрим числовые признаки "
   ]
  },
  {
   "cell_type": "code",
   "execution_count": 15,
   "metadata": {
    "execution": {
     "iopub.execute_input": "2020-10-24T15:49:16.828622Z",
     "iopub.status.busy": "2020-10-24T15:49:16.826393Z",
     "iopub.status.idle": "2020-10-24T15:49:17.842661Z",
     "shell.execute_reply": "2020-10-24T15:49:17.841948Z"
    },
    "papermill": {
     "duration": 1.083282,
     "end_time": "2020-10-24T15:49:17.842787",
     "exception": false,
     "start_time": "2020-10-24T15:49:16.759505",
     "status": "completed"
    },
    "tags": []
   },
   "outputs": [
    {
     "data": {
      "image/png": "[encoded data removed]",
      "text/plain": [
       "<Figure size 1080x1080 with 6 Axes>"
      ]
     },
     "metadata": {
      "needs_background": "light"
     },
     "output_type": "display_data"
    }
   ],
   "source": [
    "fig, axes = plt.subplots(2, 3, figsize=(15, 15))\n",
    "axes = axes.flatten()\n",
    "for i in range(len(num_cols)):\n",
    "    sns.boxplot(x=\"default\", y=num_cols[i], data=df, ax=axes[i])"
   ]
  },
  {
   "cell_type": "markdown",
   "metadata": {
    "papermill": {
     "duration": 0.055384,
     "end_time": "2020-10-24T15:49:17.951621",
     "exception": false,
     "start_time": "2020-10-24T15:49:17.896237",
     "status": "completed"
    },
    "tags": []
   },
   "source": [
    "Из построенных графиков можно сделать вывод, что выбросы имеют все столбцы, кроме 'age'и 'days"
   ]
  },
  {
   "cell_type": "markdown",
   "metadata": {
    "papermill": {
     "duration": 0.052973,
     "end_time": "2020-10-24T15:49:18.059802",
     "exception": false,
     "start_time": "2020-10-24T15:49:18.006829",
     "status": "completed"
    },
    "tags": []
   },
   "source": [
    "# Рассмотрим категориальные признаки"
   ]
  },
  {
   "cell_type": "code",
   "execution_count": 16,
   "metadata": {
    "execution": {
     "iopub.execute_input": "2020-10-24T15:49:18.202724Z",
     "iopub.status.busy": "2020-10-24T15:49:18.190085Z",
     "iopub.status.idle": "2020-10-24T15:49:18.209804Z",
     "shell.execute_reply": "2020-10-24T15:49:18.209017Z"
    },
    "papermill": {
     "duration": 0.096003,
     "end_time": "2020-10-24T15:49:18.209944",
     "exception": false,
     "start_time": "2020-10-24T15:49:18.113941",
     "status": "completed"
    },
    "tags": []
   },
   "outputs": [],
   "source": [
    "# Заполним пропуске в колонке education модой\n",
    "df.education = df.education.fillna(df.education.mode()[0])"
   ]
  },
  {
   "cell_type": "code",
   "execution_count": 17,
   "metadata": {
    "execution": {
     "iopub.execute_input": "2020-10-24T15:49:18.325784Z",
     "iopub.status.busy": "2020-10-24T15:49:18.324987Z",
     "iopub.status.idle": "2020-10-24T15:49:18.450969Z",
     "shell.execute_reply": "2020-10-24T15:49:18.450251Z"
    },
    "papermill": {
     "duration": 0.187936,
     "end_time": "2020-10-24T15:49:18.451104",
     "exception": false,
     "start_time": "2020-10-24T15:49:18.263168",
     "status": "completed"
    },
    "tags": []
   },
   "outputs": [],
   "source": [
    "#заменим значения SCH,GRD,UGR,PGR и ACD, на 0,1,2,3,4\n",
    "def fix_education(x):\n",
    "    x = x.replace('SCH', '0')\n",
    "    x = x.replace('GRD', '1')\n",
    "    x = x.replace(\"UGR\", '2')\n",
    "    x = x.replace(\"PGR\", '3')\n",
    "    x = x.replace(\"ACD\", '4')\n",
    "\n",
    "    return x\n",
    "\n",
    "\n",
    "df['education'] = df['education'].apply(fix_education)"
   ]
  },
  {
   "cell_type": "code",
   "execution_count": 18,
   "metadata": {
    "execution": {
     "iopub.execute_input": "2020-10-24T15:49:18.566761Z",
     "iopub.status.busy": "2020-10-24T15:49:18.564048Z",
     "iopub.status.idle": "2020-10-24T15:49:19.653101Z",
     "shell.execute_reply": "2020-10-24T15:49:19.653719Z"
    },
    "papermill": {
     "duration": 1.14948,
     "end_time": "2020-10-24T15:49:19.653895",
     "exception": false,
     "start_time": "2020-10-24T15:49:18.504415",
     "status": "completed"
    },
    "tags": []
   },
   "outputs": [
    {
     "data": {
      "text/plain": [
       "array([[<matplotlib.axes._subplots.AxesSubplot object at 0x7f26a6fd53d0>,\n",
       "        <matplotlib.axes._subplots.AxesSubplot object at 0x7f26a62a6e10>],\n",
       "       [<matplotlib.axes._subplots.AxesSubplot object at 0x7f26a62674d0>,\n",
       "        <matplotlib.axes._subplots.AxesSubplot object at 0x7f26a621db50>],\n",
       "       [<matplotlib.axes._subplots.AxesSubplot object at 0x7f26a5277210>,\n",
       "        <matplotlib.axes._subplots.AxesSubplot object at 0x7f26a5230890>]],\n",
       "      dtype=object)"
      ]
     },
     "execution_count": 18,
     "metadata": {},
     "output_type": "execute_result"
    },
    {
     "data": {
      "image/png": "[encoded data removed]",
      "text/plain": [
       "<Figure size 1080x1080 with 6 Axes>"
      ]
     },
     "metadata": {
      "needs_background": "light"
     },
     "output_type": "display_data"
    }
   ],
   "source": [
    "df[cat_cols].hist(figsize = (15,15), bins = 5)"
   ]
  },
  {
   "cell_type": "markdown",
   "metadata": {
    "papermill": {
     "duration": 0.055144,
     "end_time": "2020-10-24T15:49:19.764728",
     "exception": false,
     "start_time": "2020-10-24T15:49:19.709584",
     "status": "completed"
    },
    "tags": []
   },
   "source": [
    "# Рассмотрим бинарные признаки "
   ]
  },
  {
   "cell_type": "code",
   "execution_count": 19,
   "metadata": {
    "execution": {
     "iopub.execute_input": "2020-10-24T15:49:19.891555Z",
     "iopub.status.busy": "2020-10-24T15:49:19.886449Z",
     "iopub.status.idle": "2020-10-24T15:49:20.066190Z",
     "shell.execute_reply": "2020-10-24T15:49:20.065581Z"
    },
    "papermill": {
     "duration": 0.24598,
     "end_time": "2020-10-24T15:49:20.066334",
     "exception": false,
     "start_time": "2020-10-24T15:49:19.820354",
     "status": "completed"
    },
    "tags": []
   },
   "outputs": [],
   "source": [
    "# Закодируем их\n",
    "label_encoder = LabelEncoder()\n",
    "\n",
    "for column in bin_cols:\n",
    "    df[column] = label_encoder.fit_transform(df[column])"
   ]
  },
  {
   "cell_type": "markdown",
   "metadata": {
    "papermill": {
     "duration": 0.055273,
     "end_time": "2020-10-24T15:49:20.182179",
     "exception": false,
     "start_time": "2020-10-24T15:49:20.126906",
     "status": "completed"
    },
    "tags": []
   },
   "source": [
    "# Корреляция числовых признаков"
   ]
  },
  {
   "cell_type": "code",
   "execution_count": 20,
   "metadata": {
    "execution": {
     "iopub.execute_input": "2020-10-24T15:49:20.300048Z",
     "iopub.status.busy": "2020-10-24T15:49:20.299250Z",
     "iopub.status.idle": "2020-10-24T15:49:20.681450Z",
     "shell.execute_reply": "2020-10-24T15:49:20.680740Z"
    },
    "papermill": {
     "duration": 0.443588,
     "end_time": "2020-10-24T15:49:20.681610",
     "exception": false,
     "start_time": "2020-10-24T15:49:20.238022",
     "status": "completed"
    },
    "tags": []
   },
   "outputs": [
    {
     "data": {
      "text/plain": [
       "<matplotlib.axes._subplots.AxesSubplot at 0x7f26a50305d0>"
      ]
     },
     "execution_count": 20,
     "metadata": {},
     "output_type": "execute_result"
    },
    {
     "data": {
      "image/png": "[encoded data removed]",
      "text/plain": [
       "<Figure size 432x288 with 2 Axes>"
      ]
     },
     "metadata": {
      "needs_background": "light"
     },
     "output_type": "display_data"
    }
   ],
   "source": [
    "df_num = df[num_cols]\n",
    "sns.heatmap(df_num.corr(), annot = True)"
   ]
  },
  {
   "cell_type": "markdown",
   "metadata": {
    "papermill": {
     "duration": 0.065633,
     "end_time": "2020-10-24T15:49:20.829902",
     "exception": false,
     "start_time": "2020-10-24T15:49:20.764269",
     "status": "completed"
    },
    "tags": []
   },
   "source": [
    "Как видно из матрицы корреляции сильно скоррелированных признаков нет"
   ]
  },
  {
   "cell_type": "markdown",
   "metadata": {
    "papermill": {
     "duration": 0.075679,
     "end_time": "2020-10-24T15:49:20.969078",
     "exception": false,
     "start_time": "2020-10-24T15:49:20.893399",
     "status": "completed"
    },
    "tags": []
   },
   "source": [
    "# Значимость переменных"
   ]
  },
  {
   "cell_type": "code",
   "execution_count": 21,
   "metadata": {
    "execution": {
     "iopub.execute_input": "2020-10-24T15:49:21.129454Z",
     "iopub.status.busy": "2020-10-24T15:49:21.128390Z",
     "iopub.status.idle": "2020-10-24T15:49:21.327269Z",
     "shell.execute_reply": "2020-10-24T15:49:21.326607Z"
    },
    "papermill": {
     "duration": 0.277684,
     "end_time": "2020-10-24T15:49:21.327396",
     "exception": false,
     "start_time": "2020-10-24T15:49:21.049712",
     "status": "completed"
    },
    "tags": []
   },
   "outputs": [
    {
     "data": {
      "text/plain": [
       "<matplotlib.axes._subplots.AxesSubplot at 0x7f26a4f20650>"
      ]
     },
     "execution_count": 21,
     "metadata": {},
     "output_type": "execute_result"
    },
    {
     "data": {
      "image/png": "[encoded data removed]",
      "text/plain": [
       "<Figure size 432x288 with 1 Axes>"
      ]
     },
     "metadata": {
      "needs_background": "light"
     },
     "output_type": "display_data"
    }
   ],
   "source": [
    "train_df = df[df['Train']==1]\n",
    "imp_num = pd.Series(f_classif(train_df[num_cols], train_df['default'])[0], index = num_cols)\n",
    "imp_num.sort_values(inplace = True)\n",
    "imp_num.plot(kind = 'barh', title='Значимость числовых переменных')"
   ]
  },
  {
   "cell_type": "markdown",
   "metadata": {
    "papermill": {
     "duration": 0.058906,
     "end_time": "2020-10-24T15:49:21.446817",
     "exception": false,
     "start_time": "2020-10-24T15:49:21.387911",
     "status": "completed"
    },
    "tags": []
   },
   "source": [
    "Из графика видно, что наиболее значимый числовой признак скоринговый балл по данным из БКИ"
   ]
  },
  {
   "cell_type": "markdown",
   "metadata": {
    "papermill": {
     "duration": 0.063903,
     "end_time": "2020-10-24T15:49:21.573533",
     "exception": false,
     "start_time": "2020-10-24T15:49:21.509630",
     "status": "completed"
    },
    "tags": []
   },
   "source": [
    "# Значимость бинарных и категориальных переменных"
   ]
  },
  {
   "cell_type": "code",
   "execution_count": 22,
   "metadata": {
    "execution": {
     "iopub.execute_input": "2020-10-24T15:49:21.703480Z",
     "iopub.status.busy": "2020-10-24T15:49:21.702717Z",
     "iopub.status.idle": "2020-10-24T15:49:22.190165Z",
     "shell.execute_reply": "2020-10-24T15:49:22.189502Z"
    },
    "papermill": {
     "duration": 0.557769,
     "end_time": "2020-10-24T15:49:22.190320",
     "exception": false,
     "start_time": "2020-10-24T15:49:21.632551",
     "status": "completed"
    },
    "tags": []
   },
   "outputs": [
    {
     "data": {
      "text/plain": [
       "<matplotlib.axes._subplots.AxesSubplot at 0x7f26a4eac8d0>"
      ]
     },
     "execution_count": 22,
     "metadata": {},
     "output_type": "execute_result"
    },
    {
     "data": {
      "image/png": "[encoded data removed]",
      "text/plain": [
       "<Figure size 432x288 with 1 Axes>"
      ]
     },
     "metadata": {
      "needs_background": "light"
     },
     "output_type": "display_data"
    }
   ],
   "source": [
    "imp_cat = Series(mutual_info_classif(train_df[bin_cols + cat_cols], train_df['default'],\n",
    "                                     discrete_features =True), index = bin_cols + cat_cols)\n",
    "imp_cat.sort_values(inplace = True)\n",
    "imp_cat.plot(kind = 'barh', title = 'Значимость бинарных и категориальных признаков')"
   ]
  },
  {
   "cell_type": "markdown",
   "metadata": {
    "papermill": {
     "duration": 0.061502,
     "end_time": "2020-10-24T15:49:22.312797",
     "exception": false,
     "start_time": "2020-10-24T15:49:22.251295",
     "status": "completed"
    },
    "tags": []
   },
   "source": [
    "Из графика видно, что наиболее значимый признак связь заемщика с клиентами банка"
   ]
  },
  {
   "cell_type": "markdown",
   "metadata": {
    "papermill": {
     "duration": 0.060816,
     "end_time": "2020-10-24T15:49:22.436442",
     "exception": false,
     "start_time": "2020-10-24T15:49:22.375626",
     "status": "completed"
    },
    "tags": []
   },
   "source": [
    "# Подготовка данных к машинному обучению"
   ]
  },
  {
   "cell_type": "code",
   "execution_count": 23,
   "metadata": {
    "execution": {
     "iopub.execute_input": "2020-10-24T15:49:22.584352Z",
     "iopub.status.busy": "2020-10-24T15:49:22.567551Z",
     "iopub.status.idle": "2020-10-24T15:49:22.627902Z",
     "shell.execute_reply": "2020-10-24T15:49:22.627218Z"
    },
    "papermill": {
     "duration": 0.130352,
     "end_time": "2020-10-24T15:49:22.628034",
     "exception": false,
     "start_time": "2020-10-24T15:49:22.497682",
     "status": "completed"
    },
    "tags": []
   },
   "outputs": [],
   "source": [
    "df = pd.get_dummies(df, prefix=cat_cols, columns=cat_cols)"
   ]
  },
  {
   "cell_type": "code",
   "execution_count": 24,
   "metadata": {
    "execution": {
     "iopub.execute_input": "2020-10-24T15:49:22.760677Z",
     "iopub.status.busy": "2020-10-24T15:49:22.758979Z",
     "iopub.status.idle": "2020-10-24T15:49:23.019290Z",
     "shell.execute_reply": "2020-10-24T15:49:23.018527Z"
    },
    "papermill": {
     "duration": 0.330555,
     "end_time": "2020-10-24T15:49:23.019421",
     "exception": false,
     "start_time": "2020-10-24T15:49:22.688866",
     "status": "completed"
    },
    "tags": []
   },
   "outputs": [],
   "source": [
    "# Поскольку в данных выбросы, воспользуемся RobustScaler\n",
    "scaler = RobustScaler()\n",
    "\n",
    "df[num_cols] = scaler.fit_transform(df[num_cols].values)"
   ]
  },
  {
   "cell_type": "code",
   "execution_count": 25,
   "metadata": {
    "execution": {
     "iopub.execute_input": "2020-10-24T15:49:23.149191Z",
     "iopub.status.busy": "2020-10-24T15:49:23.148425Z",
     "iopub.status.idle": "2020-10-24T15:49:23.159947Z",
     "shell.execute_reply": "2020-10-24T15:49:23.159096Z"
    },
    "papermill": {
     "duration": 0.079519,
     "end_time": "2020-10-24T15:49:23.160121",
     "exception": false,
     "start_time": "2020-10-24T15:49:23.080602",
     "status": "completed"
    },
    "tags": []
   },
   "outputs": [],
   "source": [
    "#Удаленим нечисловые критерии\n",
    "df.drop(['app_date', 'client_id'], axis=1, inplace=True)"
   ]
  },
  {
   "cell_type": "markdown",
   "metadata": {
    "papermill": {
     "duration": 0.060535,
     "end_time": "2020-10-24T15:49:23.284526",
     "exception": false,
     "start_time": "2020-10-24T15:49:23.223991",
     "status": "completed"
    },
    "tags": []
   },
   "source": [
    "# Создание модели"
   ]
  },
  {
   "cell_type": "code",
   "execution_count": 26,
   "metadata": {
    "execution": {
     "iopub.execute_input": "2020-10-24T15:49:23.415892Z",
     "iopub.status.busy": "2020-10-24T15:49:23.415113Z",
     "iopub.status.idle": "2020-10-24T15:49:23.450407Z",
     "shell.execute_reply": "2020-10-24T15:49:23.449668Z"
    },
    "papermill": {
     "duration": 0.104778,
     "end_time": "2020-10-24T15:49:23.450557",
     "exception": false,
     "start_time": "2020-10-24T15:49:23.345779",
     "status": "completed"
    },
    "tags": []
   },
   "outputs": [],
   "source": [
    "#Разбиваем датасет на тренировочный и тестовый\n",
    "\n",
    "train_data = df[df['Train'] == 1].drop(['Train'], axis=1)\n",
    "test_data = df[df['Train'] == 0].drop(['Train'], axis=1)\n",
    "\n",
    "y = train_data.default.values           \n",
    "X = train_data.drop(['default'], axis=1).values"
   ]
  },
  {
   "cell_type": "code",
   "execution_count": 27,
   "metadata": {
    "execution": {
     "iopub.execute_input": "2020-10-24T15:49:23.583231Z",
     "iopub.status.busy": "2020-10-24T15:49:23.582502Z",
     "iopub.status.idle": "2020-10-24T15:49:23.622385Z",
     "shell.execute_reply": "2020-10-24T15:49:23.621691Z"
    },
    "papermill": {
     "duration": 0.110336,
     "end_time": "2020-10-24T15:49:23.622531",
     "exception": false,
     "start_time": "2020-10-24T15:49:23.512195",
     "status": "completed"
    },
    "tags": []
   },
   "outputs": [],
   "source": [
    "X_train, X_valid, y_train, y_valid = train_test_split(X, y, test_size=0.2, random_state=RANDOM_SEED)"
   ]
  },
  {
   "cell_type": "code",
   "execution_count": 28,
   "metadata": {
    "execution": {
     "iopub.execute_input": "2020-10-24T15:49:23.757741Z",
     "iopub.status.busy": "2020-10-24T15:49:23.756379Z",
     "iopub.status.idle": "2020-10-24T15:49:23.760931Z",
     "shell.execute_reply": "2020-10-24T15:49:23.760292Z"
    },
    "papermill": {
     "duration": 0.077086,
     "end_time": "2020-10-24T15:49:23.761056",
     "exception": false,
     "start_time": "2020-10-24T15:49:23.683970",
     "status": "completed"
    },
    "tags": []
   },
   "outputs": [
    {
     "data": {
      "text/plain": [
       "((36349, 42), (73799, 42), (73799, 41), (59039, 41), (14760, 41))"
      ]
     },
     "execution_count": 28,
     "metadata": {},
     "output_type": "execute_result"
    }
   ],
   "source": [
    "# проверка\n",
    "test_data.shape, train_data.shape, X.shape, X_train.shape, X_valid.shape"
   ]
  },
  {
   "cell_type": "code",
   "execution_count": 29,
   "metadata": {
    "execution": {
     "iopub.execute_input": "2020-10-24T15:49:23.893883Z",
     "iopub.status.busy": "2020-10-24T15:49:23.892629Z",
     "iopub.status.idle": "2020-10-24T15:49:24.689420Z",
     "shell.execute_reply": "2020-10-24T15:49:24.688781Z"
    },
    "papermill": {
     "duration": 0.865417,
     "end_time": "2020-10-24T15:49:24.689566",
     "exception": false,
     "start_time": "2020-10-24T15:49:23.824149",
     "status": "completed"
    },
    "tags": []
   },
   "outputs": [],
   "source": [
    "model = LogisticRegression(random_state=RANDOM_SEED)\n",
    "\n",
    "model.fit(X_train, y_train)\n",
    "\n",
    "y_pred_prob = model.predict_proba(X_valid)[:,1]\n",
    "y_pred = model.predict(X_valid)"
   ]
  },
  {
   "cell_type": "markdown",
   "metadata": {
    "papermill": {
     "duration": 0.115153,
     "end_time": "2020-10-24T15:49:24.867988",
     "exception": false,
     "start_time": "2020-10-24T15:49:24.752835",
     "status": "completed"
    },
    "tags": []
   },
   "source": [
    "# Посмотрим метрики"
   ]
  },
  {
   "cell_type": "code",
   "execution_count": 30,
   "metadata": {
    "execution": {
     "iopub.execute_input": "2020-10-24T15:49:24.998413Z",
     "iopub.status.busy": "2020-10-24T15:49:24.997668Z",
     "iopub.status.idle": "2020-10-24T15:49:25.025802Z",
     "shell.execute_reply": "2020-10-24T15:49:25.024905Z"
    },
    "papermill": {
     "duration": 0.096339,
     "end_time": "2020-10-24T15:49:25.025978",
     "exception": false,
     "start_time": "2020-10-24T15:49:24.929639",
     "status": "completed"
    },
    "tags": []
   },
   "outputs": [
    {
     "name": "stdout",
     "output_type": "stream",
     "text": [
      "Accuracy: 0.87419\n",
      "Precision: 0.36111\n",
      "Recall: 0.02135\n",
      "F1: 0.04031\n"
     ]
    }
   ],
   "source": [
    "print('Accuracy: %.5f' % accuracy_score(y_valid, y_pred))\n",
    "print('Precision: %.5f' % precision_score(y_valid, y_pred))\n",
    "print('Recall: %.5f' % recall_score(y_valid, y_pred))\n",
    "print('F1: %.5f' % f1_score(y_valid, y_pred))"
   ]
  },
  {
   "cell_type": "markdown",
   "metadata": {
    "papermill": {
     "duration": 0.064507,
     "end_time": "2020-10-24T15:49:25.153942",
     "exception": false,
     "start_time": "2020-10-24T15:49:25.089435",
     "status": "completed"
    },
    "tags": []
   },
   "source": [
    "# ROC-AUC"
   ]
  },
  {
   "cell_type": "code",
   "execution_count": 31,
   "metadata": {
    "execution": {
     "iopub.execute_input": "2020-10-24T15:49:25.288014Z",
     "iopub.status.busy": "2020-10-24T15:49:25.287256Z",
     "iopub.status.idle": "2020-10-24T15:49:25.478540Z",
     "shell.execute_reply": "2020-10-24T15:49:25.479079Z"
    },
    "papermill": {
     "duration": 0.26249,
     "end_time": "2020-10-24T15:49:25.479245",
     "exception": false,
     "start_time": "2020-10-24T15:49:25.216755",
     "status": "completed"
    },
    "tags": []
   },
   "outputs": [
    {
     "data": {
      "image/png": "[encoded data removed]",
      "text/plain": [
       "<Figure size 432x288 with 1 Axes>"
      ]
     },
     "metadata": {
      "needs_background": "light"
     },
     "output_type": "display_data"
    }
   ],
   "source": [
    "fpr, tpr, threshold = roc_curve(y_valid, y_pred_prob)\n",
    "roc_auc = roc_auc_score(y_valid, y_pred_prob)\n",
    "\n",
    "plt.figure()\n",
    "plt.plot([0, 1], label='Baseline', linestyle='--')\n",
    "plt.plot(fpr, tpr, label = 'Regression')\n",
    "plt.title('Logistic Regression ROC AUC = %0.3f' % roc_auc)\n",
    "plt.ylabel('True Positive Rate')\n",
    "plt.xlabel('False Positive Rate')\n",
    "plt.legend(loc = 'lower right')\n",
    "plt.show()"
   ]
  },
  {
   "cell_type": "code",
   "execution_count": 32,
   "metadata": {
    "execution": {
     "iopub.execute_input": "2020-10-24T15:49:25.615066Z",
     "iopub.status.busy": "2020-10-24T15:49:25.614030Z",
     "iopub.status.idle": "2020-10-24T15:49:25.644668Z",
     "shell.execute_reply": "2020-10-24T15:49:25.645202Z"
    },
    "papermill": {
     "duration": 0.101509,
     "end_time": "2020-10-24T15:49:25.645376",
     "exception": false,
     "start_time": "2020-10-24T15:49:25.543867",
     "status": "completed"
    },
    "tags": []
   },
   "outputs": [
    {
     "name": "stdout",
     "output_type": "stream",
     "text": [
      "39 69\n",
      "1788 12864\n"
     ]
    }
   ],
   "source": [
    "TN, FP, FN, TP = confusion_matrix(y_valid, y_pred).ravel()\n",
    "print(TP, FP) \n",
    "print(FN, TN)"
   ]
  },
  {
   "cell_type": "markdown",
   "metadata": {
    "papermill": {
     "duration": 0.064927,
     "end_time": "2020-10-24T15:49:25.779138",
     "exception": false,
     "start_time": "2020-10-24T15:49:25.714211",
     "status": "completed"
    },
    "tags": []
   },
   "source": [
    "Вывод: модель не угадала дефолтных клиентов. Из 1827 только 39 правильно предсказаны.Попробуем исправить ситуацию, используя настраиваемые гиперпараметры"
   ]
  },
  {
   "cell_type": "markdown",
   "metadata": {
    "papermill": {
     "duration": 0.065023,
     "end_time": "2020-10-24T15:49:25.911248",
     "exception": false,
     "start_time": "2020-10-24T15:49:25.846225",
     "status": "completed"
    },
    "tags": []
   },
   "source": [
    "# Регуляризация"
   ]
  },
  {
   "cell_type": "code",
   "execution_count": 33,
   "metadata": {
    "execution": {
     "iopub.execute_input": "2020-10-24T15:49:26.060576Z",
     "iopub.status.busy": "2020-10-24T15:49:26.059772Z",
     "iopub.status.idle": "2020-10-24T15:52:19.270222Z",
     "shell.execute_reply": "2020-10-24T15:52:19.270929Z"
    },
    "papermill": {
     "duration": 173.290769,
     "end_time": "2020-10-24T15:52:19.271131",
     "exception": false,
     "start_time": "2020-10-24T15:49:25.980362",
     "status": "completed"
    },
    "tags": []
   },
   "outputs": [
    {
     "name": "stdout",
     "output_type": "stream",
     "text": [
      "LogisticRegression(class_weight='balanced', penalty='none', random_state=42,\n",
      "                   solver='newton-cg')\n"
     ]
    }
   ],
   "source": [
    "model = LogisticRegression(random_state=RANDOM_SEED)\n",
    "\n",
    "iter_max = 100\n",
    "\n",
    "param_grid = [\n",
    "    {'penalty': ['l1'], \n",
    "     'solver': ['liblinear', 'lbfgs'], \n",
    "     'class_weight':['none', 'balanced'], \n",
    "     'multi_class': ['auto','ovr'], \n",
    "     'max_iter':[iter_max]},\n",
    "    {'penalty': ['l2'], \n",
    "     'solver': ['newton-cg', 'lbfgs', 'liblinear', 'sag', 'saga'], \n",
    "     'class_weight':['none', 'balanced'], \n",
    "     'multi_class': ['auto','ovr'], \n",
    "     'max_iter':[iter_max]},\n",
    "    {'penalty': ['none'], \n",
    "     'solver': ['newton-cg', 'lbfgs', 'sag', 'saga'], \n",
    "     'class_weight':['none', 'balanced'], \n",
    "     'multi_class': ['auto','ovr'], \n",
    "     'max_iter':[iter_max]},\n",
    "]\n",
    "\n",
    "gridsearch = GridSearchCV(model, param_grid, scoring='f1', n_jobs=-1)\n",
    "gridsearch.fit(X_train, y_train)\n",
    "model = gridsearch.best_estimator_\n",
    "print(model)"
   ]
  },
  {
   "cell_type": "code",
   "execution_count": 34,
   "metadata": {
    "execution": {
     "iopub.execute_input": "2020-10-24T15:52:19.415854Z",
     "iopub.status.busy": "2020-10-24T15:52:19.414994Z",
     "iopub.status.idle": "2020-10-24T15:52:20.567250Z",
     "shell.execute_reply": "2020-10-24T15:52:20.567895Z"
    },
    "papermill": {
     "duration": 1.228398,
     "end_time": "2020-10-24T15:52:20.568069",
     "exception": false,
     "start_time": "2020-10-24T15:52:19.339671",
     "status": "completed"
    },
    "tags": []
   },
   "outputs": [],
   "source": [
    "# Обучим модель\n",
    "\n",
    "model.fit(X_train, y_train)\n",
    "\n",
    "y_pred_prob = model.predict_proba(X_valid)[:,1]\n",
    "y_pred = model.predict(X_valid)"
   ]
  },
  {
   "cell_type": "code",
   "execution_count": 35,
   "metadata": {
    "execution": {
     "iopub.execute_input": "2020-10-24T15:52:20.714454Z",
     "iopub.status.busy": "2020-10-24T15:52:20.713363Z",
     "iopub.status.idle": "2020-10-24T15:52:20.746535Z",
     "shell.execute_reply": "2020-10-24T15:52:20.745853Z"
    },
    "papermill": {
     "duration": 0.109504,
     "end_time": "2020-10-24T15:52:20.746671",
     "exception": false,
     "start_time": "2020-10-24T15:52:20.637167",
     "status": "completed"
    },
    "tags": []
   },
   "outputs": [
    {
     "name": "stdout",
     "output_type": "stream",
     "text": [
      "1243 4254\n",
      "584 8679\n"
     ]
    }
   ],
   "source": [
    "TN, FP, FN, TP = confusion_matrix(y_valid, y_pred).ravel()\n",
    "print(TP, FP) \n",
    "print(FN, TN)"
   ]
  },
  {
   "cell_type": "code",
   "execution_count": 36,
   "metadata": {
    "execution": {
     "iopub.execute_input": "2020-10-24T15:52:20.890248Z",
     "iopub.status.busy": "2020-10-24T15:52:20.889141Z",
     "iopub.status.idle": "2020-10-24T15:52:20.933516Z",
     "shell.execute_reply": "2020-10-24T15:52:20.932686Z"
    },
    "papermill": {
     "duration": 0.118868,
     "end_time": "2020-10-24T15:52:20.933661",
     "exception": false,
     "start_time": "2020-10-24T15:52:20.814793",
     "status": "completed"
    },
    "tags": []
   },
   "outputs": [
    {
     "name": "stdout",
     "output_type": "stream",
     "text": [
      "Accuracy: 0.67222\n",
      "Precision: 0.22612\n",
      "Recall: 0.68035\n",
      "F1: 0.33943\n",
      "ROC_AUC =  0.7426\n"
     ]
    }
   ],
   "source": [
    "print('Accuracy: %.5f' % accuracy_score(y_valid, y_pred))\n",
    "print('Precision: %.5f' % precision_score(y_valid, y_pred))\n",
    "print('Recall: %.5f' % recall_score(y_valid, y_pred))\n",
    "print('F1: %.5f' % f1_score(y_valid, y_pred))\n",
    "\n",
    "print('ROC_AUC = ', round(roc_auc_score(y_valid, y_pred_prob), 5))"
   ]
  },
  {
   "cell_type": "markdown",
   "metadata": {
    "papermill": {
     "duration": 0.069811,
     "end_time": "2020-10-24T15:52:21.076023",
     "exception": false,
     "start_time": "2020-10-24T15:52:21.006212",
     "status": "completed"
    },
    "tags": []
   },
   "source": [
    "Вывод: модель стала лучше угадывать дефолтных клиентов. Из 1827 только 584 правильно предсказаны."
   ]
  },
  {
   "cell_type": "markdown",
   "metadata": {
    "papermill": {
     "duration": 0.07053,
     "end_time": "2020-10-24T15:52:21.218180",
     "exception": false,
     "start_time": "2020-10-24T15:52:21.147650",
     "status": "completed"
    },
    "tags": []
   },
   "source": [
    "# Submission"
   ]
  },
  {
   "cell_type": "code",
   "execution_count": 37,
   "metadata": {
    "execution": {
     "iopub.execute_input": "2020-10-24T15:52:21.361954Z",
     "iopub.status.busy": "2020-10-24T15:52:21.360718Z",
     "iopub.status.idle": "2020-10-24T15:52:21.394313Z",
     "shell.execute_reply": "2020-10-24T15:52:21.394907Z"
    },
    "papermill": {
     "duration": 0.109385,
     "end_time": "2020-10-24T15:52:21.395093",
     "exception": false,
     "start_time": "2020-10-24T15:52:21.285708",
     "status": "completed"
    },
    "tags": []
   },
   "outputs": [],
   "source": [
    "train_data = df[df['Train'] == 1].drop(['Train'], axis=1)\n",
    "test_data = df[df['Train'] == 0].drop(['Train'], axis=1)"
   ]
  },
  {
   "cell_type": "code",
   "execution_count": 38,
   "metadata": {
    "execution": {
     "iopub.execute_input": "2020-10-24T15:52:21.539779Z",
     "iopub.status.busy": "2020-10-24T15:52:21.538993Z",
     "iopub.status.idle": "2020-10-24T15:52:21.547446Z",
     "shell.execute_reply": "2020-10-24T15:52:21.546701Z"
    },
    "papermill": {
     "duration": 0.084189,
     "end_time": "2020-10-24T15:52:21.547594",
     "exception": false,
     "start_time": "2020-10-24T15:52:21.463405",
     "status": "completed"
    },
    "tags": []
   },
   "outputs": [],
   "source": [
    "X_train=train_data.drop(['default'], axis=1)\n",
    "y_train = train_data.default.values\n",
    "X_test = test_data.drop(['default'], axis=1)"
   ]
  },
  {
   "cell_type": "code",
   "execution_count": 39,
   "metadata": {
    "execution": {
     "iopub.execute_input": "2020-10-24T15:52:21.693236Z",
     "iopub.status.busy": "2020-10-24T15:52:21.692403Z",
     "iopub.status.idle": "2020-10-24T15:52:22.284919Z",
     "shell.execute_reply": "2020-10-24T15:52:22.284194Z"
    },
    "papermill": {
     "duration": 0.669946,
     "end_time": "2020-10-24T15:52:22.285055",
     "exception": false,
     "start_time": "2020-10-24T15:52:21.615109",
     "status": "completed"
    },
    "tags": []
   },
   "outputs": [],
   "source": [
    "predict_submission = model.predict_proba(X_test)[:,1]\n",
    "\n",
    "submit = pd.DataFrame(df_test.client_id)\n",
    "submit['default']=predict_submission\n",
    "submit.to_csv('submission.csv', index=False)"
   ]
  },
  {
   "cell_type": "code",
   "execution_count": null,
   "metadata": {
    "papermill": {
     "duration": 0.066754,
     "end_time": "2020-10-24T15:52:22.419201",
     "exception": false,
     "start_time": "2020-10-24T15:52:22.352447",
     "status": "completed"
    },
    "tags": []
   },
   "outputs": [],
   "source": []
  }
 ],
 "metadata": {
  "kernelspec": {
   "display_name": "Python 3",
   "language": "python",
   "name": "python3"
  },
  "language_info": {
   "codemirror_mode": {
    "name": "ipython",
    "version": 3
   },
   "file_extension": ".py",
   "mimetype": "text/x-python",
   "name": "python",
   "nbconvert_exporter": "python",
   "pygments_lexer": "ipython3",
   "version": "3.7.6"
  },
  "papermill": {
   "duration": 199.680765,
   "end_time": "2020-10-24T15:52:22.605549",
   "environment_variables": {},
   "exception": null,
   "input_path": "__notebook__.ipynb",
   "output_path": "__notebook__.ipynb",
   "parameters": {},
   "start_time": "2020-10-24T15:49:02.924784",
   "version": "2.1.0"
  }
 },
 "nbformat": 4,
 "nbformat_minor": 4
}
